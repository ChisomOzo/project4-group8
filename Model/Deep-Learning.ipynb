{
 "cells": [
  {
   "cell_type": "code",
   "execution_count": 42,
   "metadata": {},
   "outputs": [],
   "source": [
    "# Import Dependencies\n",
    "import numpy as np\n",
    "import pandas as pd\n",
    "import sklearn\n",
    "import matplotlib.pyplot as plt\n",
    "import seaborn as sns\n",
    "from pathlib import Path\n",
    "from sklearn.neighbors import NearestNeighbors\n",
    "import warnings\n",
    "warnings.simplefilter(action='ignore', category=FutureWarning)\n",
    "import requests"
   ]
  },
  {
   "cell_type": "code",
   "execution_count": 43,
   "metadata": {},
   "outputs": [],
   "source": [
    "# API url \n",
    "url=\"http://127.0.0.1:5000/api/v1.0/movies_list\""
   ]
  },
  {
   "cell_type": "code",
   "execution_count": 44,
   "metadata": {},
   "outputs": [],
   "source": [
    "# Call the api and retrieve data\n",
    "response=requests.get(url)"
   ]
  },
  {
   "cell_type": "code",
   "execution_count": 45,
   "metadata": {},
   "outputs": [],
   "source": [
    "# Checking if the request was successful\n",
    "if response.status_code == 200:\n",
    "    # Convert the JSON response to a pandas DataFrame\n",
    "    movies_combined_df = pd.DataFrame(response.json())\n",
    "else:\n",
    "    print(\"Failed to retrieve data:\", response.status_code)"
   ]
  },
  {
   "cell_type": "code",
   "execution_count": 46,
   "metadata": {},
   "outputs": [
    {
     "data": {
      "text/html": [
       "<div>\n",
       "<style scoped>\n",
       "    .dataframe tbody tr th:only-of-type {\n",
       "        vertical-align: middle;\n",
       "    }\n",
       "\n",
       "    .dataframe tbody tr th {\n",
       "        vertical-align: top;\n",
       "    }\n",
       "\n",
       "    .dataframe thead th {\n",
       "        text-align: right;\n",
       "    }\n",
       "</style>\n",
       "<table border=\"1\" class=\"dataframe\">\n",
       "  <thead>\n",
       "    <tr style=\"text-align: right;\">\n",
       "      <th></th>\n",
       "      <th>age</th>\n",
       "      <th>age_desc</th>\n",
       "      <th>cleaned_genres</th>\n",
       "      <th>gender</th>\n",
       "      <th>movieId</th>\n",
       "      <th>occ_desc</th>\n",
       "      <th>occupation</th>\n",
       "      <th>poster_path</th>\n",
       "      <th>rating</th>\n",
       "      <th>timestamp</th>\n",
       "      <th>title</th>\n",
       "      <th>userId</th>\n",
       "      <th>zipcode</th>\n",
       "    </tr>\n",
       "  </thead>\n",
       "  <tbody>\n",
       "    <tr>\n",
       "      <th>0</th>\n",
       "      <td>18</td>\n",
       "      <td>18-24</td>\n",
       "      <td>Action|Crime|Drama|Thriller</td>\n",
       "      <td>F</td>\n",
       "      <td>949</td>\n",
       "      <td>college/grad student</td>\n",
       "      <td>4</td>\n",
       "      <td>/zMyfPUelumio3tiDKPffaUpsQTD.jpg</td>\n",
       "      <td>5.0</td>\n",
       "      <td>956688825</td>\n",
       "      <td>Heat</td>\n",
       "      <td>242</td>\n",
       "      <td>53706</td>\n",
       "    </tr>\n",
       "    <tr>\n",
       "      <th>1</th>\n",
       "      <td>18</td>\n",
       "      <td>18-24</td>\n",
       "      <td>Action|Crime|Drama|Thriller</td>\n",
       "      <td>M</td>\n",
       "      <td>949</td>\n",
       "      <td>K-12 student</td>\n",
       "      <td>10</td>\n",
       "      <td>/zMyfPUelumio3tiDKPffaUpsQTD.jpg</td>\n",
       "      <td>4.0</td>\n",
       "      <td>942345464</td>\n",
       "      <td>Heat</td>\n",
       "      <td>363</td>\n",
       "      <td>55419</td>\n",
       "    </tr>\n",
       "    <tr>\n",
       "      <th>2</th>\n",
       "      <td>50</td>\n",
       "      <td>50-55</td>\n",
       "      <td>Action|Crime|Drama|Thriller</td>\n",
       "      <td>M</td>\n",
       "      <td>949</td>\n",
       "      <td>technician/engineer</td>\n",
       "      <td>17</td>\n",
       "      <td>/zMyfPUelumio3tiDKPffaUpsQTD.jpg</td>\n",
       "      <td>4.5</td>\n",
       "      <td>1133735550</td>\n",
       "      <td>Heat</td>\n",
       "      <td>452</td>\n",
       "      <td>55117</td>\n",
       "    </tr>\n",
       "    <tr>\n",
       "      <th>3</th>\n",
       "      <td>25</td>\n",
       "      <td>25-34</td>\n",
       "      <td>Action|Crime|Drama|Thriller</td>\n",
       "      <td>M</td>\n",
       "      <td>949</td>\n",
       "      <td>writer</td>\n",
       "      <td>20</td>\n",
       "      <td>/zMyfPUelumio3tiDKPffaUpsQTD.jpg</td>\n",
       "      <td>2.0</td>\n",
       "      <td>955092697</td>\n",
       "      <td>Heat</td>\n",
       "      <td>232</td>\n",
       "      <td>55408</td>\n",
       "    </tr>\n",
       "    <tr>\n",
       "      <th>4</th>\n",
       "      <td>45</td>\n",
       "      <td>45-49</td>\n",
       "      <td>Action|Crime|Drama|Thriller</td>\n",
       "      <td>M</td>\n",
       "      <td>949</td>\n",
       "      <td>sales/marketing</td>\n",
       "      <td>14</td>\n",
       "      <td>/zMyfPUelumio3tiDKPffaUpsQTD.jpg</td>\n",
       "      <td>3.0</td>\n",
       "      <td>879503053</td>\n",
       "      <td>Heat</td>\n",
       "      <td>537</td>\n",
       "      <td>07704</td>\n",
       "    </tr>\n",
       "  </tbody>\n",
       "</table>\n",
       "</div>"
      ],
      "text/plain": [
       "   age age_desc               cleaned_genres gender  movieId  \\\n",
       "0   18    18-24  Action|Crime|Drama|Thriller      F      949   \n",
       "1   18    18-24  Action|Crime|Drama|Thriller      M      949   \n",
       "2   50    50-55  Action|Crime|Drama|Thriller      M      949   \n",
       "3   25    25-34  Action|Crime|Drama|Thriller      M      949   \n",
       "4   45    45-49  Action|Crime|Drama|Thriller      M      949   \n",
       "\n",
       "               occ_desc  occupation                       poster_path  rating  \\\n",
       "0  college/grad student           4  /zMyfPUelumio3tiDKPffaUpsQTD.jpg     5.0   \n",
       "1          K-12 student          10  /zMyfPUelumio3tiDKPffaUpsQTD.jpg     4.0   \n",
       "2   technician/engineer          17  /zMyfPUelumio3tiDKPffaUpsQTD.jpg     4.5   \n",
       "3                writer          20  /zMyfPUelumio3tiDKPffaUpsQTD.jpg     2.0   \n",
       "4       sales/marketing          14  /zMyfPUelumio3tiDKPffaUpsQTD.jpg     3.0   \n",
       "\n",
       "    timestamp title  userId zipcode  \n",
       "0   956688825  Heat     242   53706  \n",
       "1   942345464  Heat     363   55419  \n",
       "2  1133735550  Heat     452   55117  \n",
       "3   955092697  Heat     232   55408  \n",
       "4   879503053  Heat     537   07704  "
      ]
     },
     "execution_count": 46,
     "metadata": {},
     "output_type": "execute_result"
    }
   ],
   "source": [
    "# Checking results of data requeset\n",
    "movies_combined_df.head()"
   ]
  },
  {
   "cell_type": "code",
   "execution_count": 47,
   "metadata": {},
   "outputs": [
    {
     "name": "stdout",
     "output_type": "stream",
     "text": [
      "Number of ratings: 43000\n",
      "Number of unique movieId's: 2615\n",
      "Number of unique users: 671\n",
      "Average ratings per user: 64.08\n",
      "Average ratings per movie: 16.44\n"
     ]
    }
   ],
   "source": [
    "# Check the number of ratings, unique movieId's, unique users, and average ratings per user and movie.\n",
    "n_ratings = len(movies_combined_df)\n",
    "n_movies = len(movies_combined_df['movieId'].unique())\n",
    "n_users = len(movies_combined_df['userId'].unique())\n",
    " \n",
    "print(f\"Number of ratings: {n_ratings}\")\n",
    "print(f\"Number of unique movieId's: {n_movies}\")\n",
    "print(f\"Number of unique users: {n_users}\")\n",
    "print(f\"Average ratings per user: {round(n_ratings/n_users, 2)}\")\n",
    "print(f\"Average ratings per movie: {round(n_ratings/n_movies, 2)}\")"
   ]
  },
  {
   "cell_type": "code",
   "execution_count": 48,
   "metadata": {},
   "outputs": [
    {
     "data": {
      "text/html": [
       "<div>\n",
       "<style scoped>\n",
       "    .dataframe tbody tr th:only-of-type {\n",
       "        vertical-align: middle;\n",
       "    }\n",
       "\n",
       "    .dataframe tbody tr th {\n",
       "        vertical-align: top;\n",
       "    }\n",
       "\n",
       "    .dataframe thead th {\n",
       "        text-align: right;\n",
       "    }\n",
       "</style>\n",
       "<table border=\"1\" class=\"dataframe\">\n",
       "  <thead>\n",
       "    <tr style=\"text-align: right;\">\n",
       "      <th></th>\n",
       "      <th>movieId</th>\n",
       "      <th>title</th>\n",
       "      <th>cleaned_genres</th>\n",
       "    </tr>\n",
       "  </thead>\n",
       "  <tbody>\n",
       "    <tr>\n",
       "      <th>0</th>\n",
       "      <td>949</td>\n",
       "      <td>Heat</td>\n",
       "      <td>Action|Crime|Drama|Thriller</td>\n",
       "    </tr>\n",
       "    <tr>\n",
       "      <th>5</th>\n",
       "      <td>710</td>\n",
       "      <td>GoldenEye</td>\n",
       "      <td>Adventure|Action|Thriller</td>\n",
       "    </tr>\n",
       "    <tr>\n",
       "      <th>6</th>\n",
       "      <td>1408</td>\n",
       "      <td>Cutthroat Island</td>\n",
       "      <td>Action|Adventure</td>\n",
       "    </tr>\n",
       "    <tr>\n",
       "      <th>58</th>\n",
       "      <td>524</td>\n",
       "      <td>Casino</td>\n",
       "      <td>Drama|Crime</td>\n",
       "    </tr>\n",
       "    <tr>\n",
       "      <th>87</th>\n",
       "      <td>4584</td>\n",
       "      <td>Sense and Sensibility</td>\n",
       "      <td>Drama|Romance</td>\n",
       "    </tr>\n",
       "  </tbody>\n",
       "</table>\n",
       "</div>"
      ],
      "text/plain": [
       "    movieId                  title               cleaned_genres\n",
       "0       949                   Heat  Action|Crime|Drama|Thriller\n",
       "5       710              GoldenEye    Adventure|Action|Thriller\n",
       "6      1408       Cutthroat Island             Action|Adventure\n",
       "58      524                 Casino                  Drama|Crime\n",
       "87     4584  Sense and Sensibility                Drama|Romance"
      ]
     },
     "execution_count": 48,
     "metadata": {},
     "output_type": "execute_result"
    }
   ],
   "source": [
    "# Select columns and drop duplicates\n",
    "movies_df = movies_combined_df[['movieId', 'title', 'cleaned_genres']].copy()\n",
    "movies_df = movies_df.drop_duplicates()\n",
    "movies_df.head()"
   ]
  },
  {
   "cell_type": "code",
   "execution_count": 49,
   "metadata": {},
   "outputs": [
    {
     "name": "stdout",
     "output_type": "stream",
     "text": [
      "Number of ratings: 2615\n",
      "Number of unique movieId's: 2615\n"
     ]
    }
   ],
   "source": [
    "# Check the number of ratings and unique movieId's\n",
    "n_ratings = len(movies_df)\n",
    "n_movies = len(movies_df['movieId'].unique())\n",
    "\n",
    "print(f\"Number of ratings: {n_ratings}\")\n",
    "print(f\"Number of unique movieId's: {n_movies}\")\n"
   ]
  },
  {
   "cell_type": "code",
   "execution_count": 50,
   "metadata": {},
   "outputs": [
    {
     "data": {
      "text/html": [
       "<div>\n",
       "<style scoped>\n",
       "    .dataframe tbody tr th:only-of-type {\n",
       "        vertical-align: middle;\n",
       "    }\n",
       "\n",
       "    .dataframe tbody tr th {\n",
       "        vertical-align: top;\n",
       "    }\n",
       "\n",
       "    .dataframe thead th {\n",
       "        text-align: right;\n",
       "    }\n",
       "</style>\n",
       "<table border=\"1\" class=\"dataframe\">\n",
       "  <thead>\n",
       "    <tr style=\"text-align: right;\">\n",
       "      <th></th>\n",
       "      <th>userId</th>\n",
       "      <th>movieId</th>\n",
       "      <th>rating</th>\n",
       "    </tr>\n",
       "  </thead>\n",
       "  <tbody>\n",
       "    <tr>\n",
       "      <th>0</th>\n",
       "      <td>242</td>\n",
       "      <td>949</td>\n",
       "      <td>5.0</td>\n",
       "    </tr>\n",
       "    <tr>\n",
       "      <th>1</th>\n",
       "      <td>363</td>\n",
       "      <td>949</td>\n",
       "      <td>4.0</td>\n",
       "    </tr>\n",
       "    <tr>\n",
       "      <th>2</th>\n",
       "      <td>452</td>\n",
       "      <td>949</td>\n",
       "      <td>4.5</td>\n",
       "    </tr>\n",
       "    <tr>\n",
       "      <th>3</th>\n",
       "      <td>232</td>\n",
       "      <td>949</td>\n",
       "      <td>2.0</td>\n",
       "    </tr>\n",
       "    <tr>\n",
       "      <th>4</th>\n",
       "      <td>537</td>\n",
       "      <td>949</td>\n",
       "      <td>3.0</td>\n",
       "    </tr>\n",
       "  </tbody>\n",
       "</table>\n",
       "</div>"
      ],
      "text/plain": [
       "   userId  movieId  rating\n",
       "0     242      949     5.0\n",
       "1     363      949     4.0\n",
       "2     452      949     4.5\n",
       "3     232      949     2.0\n",
       "4     537      949     3.0"
      ]
     },
     "execution_count": 50,
     "metadata": {},
     "output_type": "execute_result"
    }
   ],
   "source": [
    "# Select columns\n",
    "ratings_df = movies_combined_df[['userId', 'movieId', 'rating']].copy()\n",
    "ratings_df.head()"
   ]
  },
  {
   "cell_type": "code",
   "execution_count": 51,
   "metadata": {},
   "outputs": [
    {
     "name": "stdout",
     "output_type": "stream",
     "text": [
      "Number of ratings: 43000\n",
      "Number of unique movieId's: 2615\n",
      "Number of unique users: 671\n"
     ]
    }
   ],
   "source": [
    "# Check the number of ratings, unique movieId's, and unique users\n",
    "n_ratings = len(ratings_df)\n",
    "n_movies = len(ratings_df['movieId'].unique())\n",
    "n_users = len(ratings_df['userId'].unique())\n",
    " \n",
    "print(f\"Number of ratings: {n_ratings}\")\n",
    "print(f\"Number of unique movieId's: {n_movies}\")\n",
    "print(f\"Number of unique users: {n_users}\")\n"
   ]
  },
  {
   "cell_type": "code",
   "execution_count": 52,
   "metadata": {},
   "outputs": [
    {
     "data": {
      "text/html": [
       "<div>\n",
       "<style scoped>\n",
       "    .dataframe tbody tr th:only-of-type {\n",
       "        vertical-align: middle;\n",
       "    }\n",
       "\n",
       "    .dataframe tbody tr th {\n",
       "        vertical-align: top;\n",
       "    }\n",
       "\n",
       "    .dataframe thead th {\n",
       "        text-align: right;\n",
       "    }\n",
       "</style>\n",
       "<table border=\"1\" class=\"dataframe\">\n",
       "  <thead>\n",
       "    <tr style=\"text-align: right;\">\n",
       "      <th></th>\n",
       "      <th>userId</th>\n",
       "      <th>gender</th>\n",
       "      <th>zipcode</th>\n",
       "      <th>age_desc</th>\n",
       "      <th>occ_desc</th>\n",
       "    </tr>\n",
       "  </thead>\n",
       "  <tbody>\n",
       "    <tr>\n",
       "      <th>0</th>\n",
       "      <td>242</td>\n",
       "      <td>F</td>\n",
       "      <td>53706</td>\n",
       "      <td>18-24</td>\n",
       "      <td>college/grad student</td>\n",
       "    </tr>\n",
       "    <tr>\n",
       "      <th>1</th>\n",
       "      <td>363</td>\n",
       "      <td>M</td>\n",
       "      <td>55419</td>\n",
       "      <td>18-24</td>\n",
       "      <td>K-12 student</td>\n",
       "    </tr>\n",
       "    <tr>\n",
       "      <th>2</th>\n",
       "      <td>452</td>\n",
       "      <td>M</td>\n",
       "      <td>55117</td>\n",
       "      <td>50-55</td>\n",
       "      <td>technician/engineer</td>\n",
       "    </tr>\n",
       "    <tr>\n",
       "      <th>3</th>\n",
       "      <td>232</td>\n",
       "      <td>M</td>\n",
       "      <td>55408</td>\n",
       "      <td>25-34</td>\n",
       "      <td>writer</td>\n",
       "    </tr>\n",
       "    <tr>\n",
       "      <th>4</th>\n",
       "      <td>537</td>\n",
       "      <td>M</td>\n",
       "      <td>07704</td>\n",
       "      <td>45-49</td>\n",
       "      <td>sales/marketing</td>\n",
       "    </tr>\n",
       "  </tbody>\n",
       "</table>\n",
       "</div>"
      ],
      "text/plain": [
       "   userId gender zipcode age_desc              occ_desc\n",
       "0     242      F   53706    18-24  college/grad student\n",
       "1     363      M   55419    18-24          K-12 student\n",
       "2     452      M   55117    50-55   technician/engineer\n",
       "3     232      M   55408    25-34                writer\n",
       "4     537      M   07704    45-49       sales/marketing"
      ]
     },
     "execution_count": 52,
     "metadata": {},
     "output_type": "execute_result"
    }
   ],
   "source": [
    "# Select columns and drop duplicates\n",
    "users_df = movies_combined_df[['userId', 'gender', 'zipcode', 'age_desc', 'occ_desc']] .copy()\n",
    "users_df = users_df.drop_duplicates()\n",
    "users_df.head()"
   ]
  },
  {
   "cell_type": "code",
   "execution_count": 53,
   "metadata": {},
   "outputs": [
    {
     "name": "stdout",
     "output_type": "stream",
     "text": [
      "Number of ratings: 671\n",
      "Number of unique users: 671\n"
     ]
    }
   ],
   "source": [
    "# Check the number of ratings and unique users\n",
    "n_ratings = len(users_df)\n",
    "n_users = len(users_df['userId'].unique())\n",
    " \n",
    "print(f\"Number of ratings: {n_ratings}\")\n",
    "print(f\"Number of unique users: {n_users}\")\n"
   ]
  },
  {
   "cell_type": "code",
   "execution_count": 54,
   "metadata": {},
   "outputs": [
    {
     "name": "stdout",
     "output_type": "stream",
     "text": [
      "users: [575   8 211 ... 481   2 182] , shape = (43000,)\n",
      "movies: [ 4857 33166   605 ... 41566   537   300] , shape = (43000,)\n",
      "ratings: [3.  4.5 4.  ... 3.  4.  3. ] , shape = (43000,)\n"
     ]
    }
   ],
   "source": [
    "# Training set randomized options\n",
    "import random\n",
    "import math\n",
    "RNG_SEED = 142\n",
    "random_ratings = ratings_df.sample(frac=1, random_state=RNG_SEED)\n",
    "\n",
    "# Randomize the dataframes\n",
    "users = random_ratings['userId'].values\n",
    "movies = random_ratings['movieId'].values\n",
    "ratings = random_ratings['rating'].values\n",
    "\n",
    "print(f\"users:\", users, ', shape =', users.shape)\n",
    "print(f\"movies:\", movies, ', shape =', movies.shape)\n",
    "print(f\"ratings:\", ratings, ', shape =', ratings.shape)"
   ]
  },
  {
   "cell_type": "code",
   "execution_count": 55,
   "metadata": {},
   "outputs": [],
   "source": [
    "import tensorflow as tf\n",
    "class CFModel(tf.keras.Model):\n",
    "    def __init__(self, n_users, m_items, k_factors):\n",
    "        super(CFModel, self).__init__()\n",
    "        \n",
    "        self.P = tf.keras.Sequential([\n",
    "            tf.keras.layers.Embedding(n_users, k_factors, input_length=1),\n",
    "            tf.keras.layers.Reshape((k_factors,))\n",
    "        ])\n",
    "        \n",
    "        self.Q = tf.keras.Sequential([\n",
    "            tf.keras.layers.Embedding(m_items, k_factors, input_length=1),\n",
    "            tf.keras.layers.Reshape((k_factors,))\n",
    "        ])\n",
    "        \n",
    "    def call(self, inputs):\n",
    "        user_id, item_id = inputs\n",
    "        user_latent = self.P(user_id)\n",
    "        item_latent = self.Q(item_id)\n",
    "        return tf.reduce_sum(tf.multiply(user_latent, item_latent), axis=1)\n",
    "    \n",
    "    def rate(self, user_id, item_id):\n",
    "        user_embedding = self.P(tf.constant([user_id]))\n",
    "        item_embedding = self.Q(tf.constant([item_id]))\n",
    "        prediction = tf.reduce_sum(tf.multiply(user_embedding, item_embedding), axis=1)[0]\n",
    "        return prediction.numpy()  \n"
   ]
  },
  {
   "cell_type": "code",
   "execution_count": 56,
   "metadata": {},
   "outputs": [],
   "source": [
    "# Capture the max userId and movieId\n",
    "user_id_max = ratings_df['userId'].drop_duplicates().max()\n",
    "movie_id_max = ratings_df['movieId'].drop_duplicates().max()"
   ]
  },
  {
   "cell_type": "code",
   "execution_count": 57,
   "metadata": {},
   "outputs": [],
   "source": [
    "# Ensure user_id and movie_id fall within range\n",
    "n_users = user_id_max + 1\n",
    "m_items = movie_id_max + 1"
   ]
  },
  {
   "cell_type": "code",
   "execution_count": 58,
   "metadata": {},
   "outputs": [],
   "source": [
    "# Test with constant \n",
    "FACTORS = 100"
   ]
  },
  {
   "cell_type": "code",
   "execution_count": 59,
   "metadata": {},
   "outputs": [],
   "source": [
    "# Colabritive filtering model\n",
    "cf_model = CFModel(n_users, m_items, FACTORS)\n",
    "\n",
    "# Compile, loss: Mean Squared Error, opimizer: Adamax\n",
    "cf_model.compile(loss='mse', optimizer='adamax')"
   ]
  },
  {
   "cell_type": "code",
   "execution_count": 60,
   "metadata": {},
   "outputs": [
    {
     "name": "stdout",
     "output_type": "stream",
     "text": [
      "Max User ID: 671\n",
      "Max Movie ID: 160718\n",
      "Number of users (n_users): 672\n",
      "Number of items (m_items): 160719\n"
     ]
    }
   ],
   "source": [
    "# Ensure compatibility with model\n",
    "print(\"Max User ID:\", user_id_max)\n",
    "print(\"Max Movie ID:\", movie_id_max)\n",
    "print(\"Number of users (n_users):\", n_users)\n",
    "print(\"Number of items (m_items):\", m_items)"
   ]
  },
  {
   "cell_type": "code",
   "execution_count": 61,
   "metadata": {},
   "outputs": [
    {
     "name": "stdout",
     "output_type": "stream",
     "text": [
      "1210/1210 - 111s - loss: 13.7499 - val_loss: 13.7892 - 111s/epoch - 92ms/step\n"
     ]
    }
   ],
   "source": [
    "# Train the model\n",
    "# Set callbacks to monitor validation loss and save the best model weights\n",
    "callbacks = [\n",
    "    tf.keras.callbacks.EarlyStopping(monitor='val_loss', patience=2),\n",
    "]\n",
    "\n",
    "# Use epochs for training\n",
    "epochs = 60\n",
    "\n",
    "# Fit the model with callbacks\n",
    "results = cf_model.fit(\n",
    "    x=[users, movies],\n",
    "    y=ratings,\n",
    "    epochs=epochs,\n",
    "    validation_split=.1,\n",
    "    verbose=2,\n",
    "    callbacks=callbacks\n",
    ")\n",
    "\n",
    "# Save the entire model using the TensorFlow SavedModel format\n",
    "# tf.keras.models.save_model(cf_model, 'saved_model')\n"
   ]
  },
  {
   "cell_type": "code",
   "execution_count": 62,
   "metadata": {},
   "outputs": [
    {
     "name": "stdout",
     "output_type": "stream",
     "text": [
      "Minimum RMSE at epoch 1 = 3.7134\n"
     ]
    }
   ],
   "source": [
    "# Show the best validation RMSE\n",
    "val_losses = results.history['val_loss']\n",
    "min_val_loss = min(val_losses)\n",
    "idx = val_losses.index(min_val_loss) + 1  # Add 1 to get epoch number starting from 1\n",
    "print('Minimum RMSE at epoch', idx, '=', '{:.4f}'.format(math.sqrt(min_val_loss)))"
   ]
  },
  {
   "cell_type": "code",
   "execution_count": 63,
   "metadata": {},
   "outputs": [],
   "source": [
    "# Select user\n",
    "USER = 660"
   ]
  },
  {
   "cell_type": "code",
   "execution_count": 64,
   "metadata": {},
   "outputs": [
    {
     "data": {
      "text/html": [
       "<div>\n",
       "<style scoped>\n",
       "    .dataframe tbody tr th:only-of-type {\n",
       "        vertical-align: middle;\n",
       "    }\n",
       "\n",
       "    .dataframe tbody tr th {\n",
       "        vertical-align: top;\n",
       "    }\n",
       "\n",
       "    .dataframe thead th {\n",
       "        text-align: right;\n",
       "    }\n",
       "</style>\n",
       "<table border=\"1\" class=\"dataframe\">\n",
       "  <thead>\n",
       "    <tr style=\"text-align: right;\">\n",
       "      <th></th>\n",
       "      <th>userId</th>\n",
       "      <th>gender</th>\n",
       "      <th>zipcode</th>\n",
       "      <th>age_desc</th>\n",
       "      <th>occ_desc</th>\n",
       "    </tr>\n",
       "  </thead>\n",
       "  <tbody>\n",
       "    <tr>\n",
       "      <th>3511</th>\n",
       "      <td>660</td>\n",
       "      <td>M</td>\n",
       "      <td>70507</td>\n",
       "      <td>45-49</td>\n",
       "      <td>self-employed</td>\n",
       "    </tr>\n",
       "  </tbody>\n",
       "</table>\n",
       "</div>"
      ],
      "text/plain": [
       "      userId gender zipcode age_desc       occ_desc\n",
       "3511     660      M   70507    45-49  self-employed"
      ]
     },
     "execution_count": 64,
     "metadata": {},
     "output_type": "execute_result"
    }
   ],
   "source": [
    "users_df[users_df['userId'] == USER]"
   ]
  },
  {
   "cell_type": "code",
   "execution_count": 65,
   "metadata": {},
   "outputs": [],
   "source": [
    "# Define predicted rating\n",
    "def predict_rating(userId, movieId):\n",
    "    return cf_model.rate(userId - 1, movieId - 1)"
   ]
  },
  {
   "cell_type": "code",
   "execution_count": 66,
   "metadata": {},
   "outputs": [
    {
     "data": {
      "text/html": [
       "<div>\n",
       "<style scoped>\n",
       "    .dataframe tbody tr th:only-of-type {\n",
       "        vertical-align: middle;\n",
       "    }\n",
       "\n",
       "    .dataframe tbody tr th {\n",
       "        vertical-align: top;\n",
       "    }\n",
       "\n",
       "    .dataframe thead th {\n",
       "        text-align: right;\n",
       "    }\n",
       "</style>\n",
       "<table border=\"1\" class=\"dataframe\">\n",
       "  <thead>\n",
       "    <tr style=\"text-align: right;\">\n",
       "      <th></th>\n",
       "      <th>userId</th>\n",
       "      <th>movieId</th>\n",
       "      <th>rating</th>\n",
       "      <th>prediction</th>\n",
       "      <th>title</th>\n",
       "      <th>cleaned_genres</th>\n",
       "    </tr>\n",
       "  </thead>\n",
       "  <tbody>\n",
       "    <tr>\n",
       "      <th>0</th>\n",
       "      <td>660</td>\n",
       "      <td>260</td>\n",
       "      <td>4.5</td>\n",
       "      <td>-0.001070</td>\n",
       "      <td>The 39 Steps</td>\n",
       "      <td>Action|Thriller|Mystery</td>\n",
       "    </tr>\n",
       "    <tr>\n",
       "      <th>1</th>\n",
       "      <td>660</td>\n",
       "      <td>40815</td>\n",
       "      <td>4.5</td>\n",
       "      <td>0.004165</td>\n",
       "      <td>On Guard</td>\n",
       "      <td>Drama|Adventure</td>\n",
       "    </tr>\n",
       "    <tr>\n",
       "      <th>2</th>\n",
       "      <td>660</td>\n",
       "      <td>81847</td>\n",
       "      <td>4.5</td>\n",
       "      <td>-0.002237</td>\n",
       "      <td>The Dawn Patrol</td>\n",
       "      <td>Action|War|Drama</td>\n",
       "    </tr>\n",
       "    <tr>\n",
       "      <th>3</th>\n",
       "      <td>660</td>\n",
       "      <td>111759</td>\n",
       "      <td>4.5</td>\n",
       "      <td>0.007870</td>\n",
       "      <td>Don Q Son of Zorro</td>\n",
       "      <td>Western|Adventure|Romance</td>\n",
       "    </tr>\n",
       "    <tr>\n",
       "      <th>4</th>\n",
       "      <td>660</td>\n",
       "      <td>54001</td>\n",
       "      <td>4.5</td>\n",
       "      <td>0.003208</td>\n",
       "      <td>The Traveler</td>\n",
       "      <td>Drama</td>\n",
       "    </tr>\n",
       "    <tr>\n",
       "      <th>5</th>\n",
       "      <td>660</td>\n",
       "      <td>8970</td>\n",
       "      <td>4.0</td>\n",
       "      <td>0.006723</td>\n",
       "      <td>The Out-of-Towners</td>\n",
       "      <td>Comedy</td>\n",
       "    </tr>\n",
       "    <tr>\n",
       "      <th>6</th>\n",
       "      <td>660</td>\n",
       "      <td>4993</td>\n",
       "      <td>4.0</td>\n",
       "      <td>0.002107</td>\n",
       "      <td>5 Card Stud</td>\n",
       "      <td>Action|Western|Thriller</td>\n",
       "    </tr>\n",
       "    <tr>\n",
       "      <th>7</th>\n",
       "      <td>660</td>\n",
       "      <td>8961</td>\n",
       "      <td>4.0</td>\n",
       "      <td>0.001916</td>\n",
       "      <td>Bad Boys II</td>\n",
       "      <td>Adventure|Action|Comedy|Thriller|Crime</td>\n",
       "    </tr>\n",
       "    <tr>\n",
       "      <th>8</th>\n",
       "      <td>660</td>\n",
       "      <td>30707</td>\n",
       "      <td>4.0</td>\n",
       "      <td>0.004026</td>\n",
       "      <td>Star 80</td>\n",
       "      <td>Drama</td>\n",
       "    </tr>\n",
       "    <tr>\n",
       "      <th>9</th>\n",
       "      <td>660</td>\n",
       "      <td>77561</td>\n",
       "      <td>4.0</td>\n",
       "      <td>-0.001617</td>\n",
       "      <td>EVA</td>\n",
       "      <td>Science Fiction</td>\n",
       "    </tr>\n",
       "  </tbody>\n",
       "</table>\n",
       "</div>"
      ],
      "text/plain": [
       "   userId  movieId  rating  prediction               title  \\\n",
       "0     660      260     4.5   -0.001070        The 39 Steps   \n",
       "1     660    40815     4.5    0.004165            On Guard   \n",
       "2     660    81847     4.5   -0.002237     The Dawn Patrol   \n",
       "3     660   111759     4.5    0.007870  Don Q Son of Zorro   \n",
       "4     660    54001     4.5    0.003208        The Traveler   \n",
       "5     660     8970     4.0    0.006723  The Out-of-Towners   \n",
       "6     660     4993     4.0    0.002107         5 Card Stud   \n",
       "7     660     8961     4.0    0.001916         Bad Boys II   \n",
       "8     660    30707     4.0    0.004026             Star 80   \n",
       "9     660    77561     4.0   -0.001617                 EVA   \n",
       "\n",
       "                           cleaned_genres  \n",
       "0                 Action|Thriller|Mystery  \n",
       "1                         Drama|Adventure  \n",
       "2                        Action|War|Drama  \n",
       "3               Western|Adventure|Romance  \n",
       "4                                   Drama  \n",
       "5                                  Comedy  \n",
       "6                 Action|Western|Thriller  \n",
       "7  Adventure|Action|Comedy|Thriller|Crime  \n",
       "8                                   Drama  \n",
       "9                         Science Fiction  "
      ]
     },
     "execution_count": 66,
     "metadata": {},
     "output_type": "execute_result"
    }
   ],
   "source": [
    "# Get the top rated movies by current user\n",
    "user_ratings = ratings_df[ratings_df[\"userId\"] == USER][['userId', 'movieId', 'rating']]\n",
    "user_ratings['prediction'] = user_ratings.apply(lambda x: predict_rating(USER, x['movieId']), axis=1)\n",
    "\n",
    "# Remove duplicate movie entries from movies_df DataFrame\n",
    "unique_movies_df = movies_df.drop_duplicates(subset=['movieId'])\n",
    "\n",
    "# Merge the user_ratings DataFrame with the unique_movies_df DataFrame to get the top 10 movies by current user.\n",
    "merged_data = user_ratings.merge(unique_movies_df, on='movieId', how='inner')\n",
    "\n",
    "# Sort the DataFrame by rating in descending order and reset the index.\n",
    "top_10_rated_movies = merged_data.sort_values(by='rating', ascending=False)\n",
    "top_10_rated_movies = top_10_rated_movies.reset_index(drop=True)\n",
    "\n",
    "# Display the top 10 rated movies by current user.\n",
    "top_10_rated_movies.head(10)\n"
   ]
  },
  {
   "cell_type": "code",
   "execution_count": 70,
   "metadata": {},
   "outputs": [
    {
     "data": {
      "text/plain": [
       "[640, 331, 2125, 1947, 85, 3483, 49688, 6935, 559, 3057]"
      ]
     },
     "execution_count": 70,
     "metadata": {},
     "output_type": "execute_result"
    }
   ],
   "source": [
    "# Get unrated movies for the user\n",
    "recommendations = ratings_df[ratings_df['movieId'].isin(user_ratings['movieId'])== False][['movieId']].drop_duplicates()\n",
    "\n",
    "# Generate predictions for unrated movies\n",
    "recommendations['prediction'] = recommendations.apply(lambda x: predict_rating(USER, x['movieId']), axis=1)\n",
    "\n",
    "# Merge predictions with movie information\n",
    "recommended_movies = recommendations.sort_values(by='prediction', ascending=False).merge(movies_df,\n",
    "                                                                                         on='movieId',\n",
    "                                                                                         how='inner',\n",
    "                                                                                         suffixes=['_u', '_m'])\n",
    "\n",
    "# Filter out duplicate titles for one specific user\n",
    "recommended_movies = recommended_movies.drop_duplicates(subset=['title'])\n",
    "\n",
    "# Reset index\n",
    "top_10_recommended_movies = recommended_movies.reset_index(drop=True)\n",
    "\n",
    "# Display the top 20 recommended movies\n",
    "list(top_10_recommended_movies['movieId'].head(10).values)"
   ]
  }
 ],
 "metadata": {
  "kernelspec": {
   "display_name": "dev",
   "language": "python",
   "name": "python3"
  },
  "language_info": {
   "codemirror_mode": {
    "name": "ipython",
    "version": 3
   },
   "file_extension": ".py",
   "mimetype": "text/x-python",
   "name": "python",
   "nbconvert_exporter": "python",
   "pygments_lexer": "ipython3",
   "version": "3.10.12"
  },
  "orig_nbformat": 4
 },
 "nbformat": 4,
 "nbformat_minor": 2
}
